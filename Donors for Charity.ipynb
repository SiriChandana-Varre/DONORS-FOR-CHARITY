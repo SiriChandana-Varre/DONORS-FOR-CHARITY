{
 "cells": [
  {
   "cell_type": "code",
   "execution_count": 157,
   "id": "39da4947",
   "metadata": {},
   "outputs": [],
   "source": [
    "# Importing the libraries \n",
    "\n",
    "import pandas as pd\n",
    "import numpy as np \n",
    "import matplotlib.pyplot as plt \n",
    "import seaborn as sns\n",
    "%matplotlib inline\n",
    "\n",
    "# Ignore harmless warnings \n",
    "\n",
    "import warnings \n",
    "warnings.filterwarnings(\"ignore\")\n",
    "\n",
    "# Set to display all the columns in dataset\n",
    "\n",
    "pd.set_option(\"display.max_columns\", None)\n",
    "\n",
    "# Import psql to run queries \n",
    "\n",
    "import pandasql as psql\n",
    "\n",
    "# import datetime class from datetime module\n",
    "\n",
    "from datetime import datetime"
   ]
  },
  {
   "cell_type": "code",
   "execution_count": 158,
   "id": "db802dd1",
   "metadata": {},
   "outputs": [
    {
     "data": {
      "text/html": [
       "<div>\n",
       "<style scoped>\n",
       "    .dataframe tbody tr th:only-of-type {\n",
       "        vertical-align: middle;\n",
       "    }\n",
       "\n",
       "    .dataframe tbody tr th {\n",
       "        vertical-align: top;\n",
       "    }\n",
       "\n",
       "    .dataframe thead th {\n",
       "        text-align: right;\n",
       "    }\n",
       "</style>\n",
       "<table border=\"1\" class=\"dataframe\">\n",
       "  <thead>\n",
       "    <tr style=\"text-align: right;\">\n",
       "      <th></th>\n",
       "      <th>age</th>\n",
       "      <th>workclass</th>\n",
       "      <th>education_level</th>\n",
       "      <th>education-num</th>\n",
       "      <th>marital-status</th>\n",
       "      <th>occupation</th>\n",
       "      <th>relationship</th>\n",
       "      <th>race</th>\n",
       "      <th>sex</th>\n",
       "      <th>capital-gain</th>\n",
       "      <th>capital-loss</th>\n",
       "      <th>hours-per-week</th>\n",
       "      <th>native-country</th>\n",
       "      <th>income</th>\n",
       "    </tr>\n",
       "  </thead>\n",
       "  <tbody>\n",
       "    <tr>\n",
       "      <th>0</th>\n",
       "      <td>39</td>\n",
       "      <td>State-gov</td>\n",
       "      <td>Bachelors</td>\n",
       "      <td>13.0</td>\n",
       "      <td>Never-married</td>\n",
       "      <td>Adm-clerical</td>\n",
       "      <td>Not-in-family</td>\n",
       "      <td>White</td>\n",
       "      <td>Male</td>\n",
       "      <td>2174.0</td>\n",
       "      <td>0.0</td>\n",
       "      <td>40.0</td>\n",
       "      <td>United-States</td>\n",
       "      <td>&lt;=50K</td>\n",
       "    </tr>\n",
       "    <tr>\n",
       "      <th>1</th>\n",
       "      <td>50</td>\n",
       "      <td>Self-emp-not-inc</td>\n",
       "      <td>Bachelors</td>\n",
       "      <td>13.0</td>\n",
       "      <td>Married-civ-spouse</td>\n",
       "      <td>Exec-managerial</td>\n",
       "      <td>Husband</td>\n",
       "      <td>White</td>\n",
       "      <td>Male</td>\n",
       "      <td>0.0</td>\n",
       "      <td>0.0</td>\n",
       "      <td>13.0</td>\n",
       "      <td>United-States</td>\n",
       "      <td>&lt;=50K</td>\n",
       "    </tr>\n",
       "    <tr>\n",
       "      <th>2</th>\n",
       "      <td>38</td>\n",
       "      <td>Private</td>\n",
       "      <td>HS-grad</td>\n",
       "      <td>9.0</td>\n",
       "      <td>Divorced</td>\n",
       "      <td>Handlers-cleaners</td>\n",
       "      <td>Not-in-family</td>\n",
       "      <td>White</td>\n",
       "      <td>Male</td>\n",
       "      <td>0.0</td>\n",
       "      <td>0.0</td>\n",
       "      <td>40.0</td>\n",
       "      <td>United-States</td>\n",
       "      <td>&lt;=50K</td>\n",
       "    </tr>\n",
       "    <tr>\n",
       "      <th>3</th>\n",
       "      <td>53</td>\n",
       "      <td>Private</td>\n",
       "      <td>11th</td>\n",
       "      <td>7.0</td>\n",
       "      <td>Married-civ-spouse</td>\n",
       "      <td>Handlers-cleaners</td>\n",
       "      <td>Husband</td>\n",
       "      <td>Black</td>\n",
       "      <td>Male</td>\n",
       "      <td>0.0</td>\n",
       "      <td>0.0</td>\n",
       "      <td>40.0</td>\n",
       "      <td>United-States</td>\n",
       "      <td>&lt;=50K</td>\n",
       "    </tr>\n",
       "    <tr>\n",
       "      <th>4</th>\n",
       "      <td>28</td>\n",
       "      <td>Private</td>\n",
       "      <td>Bachelors</td>\n",
       "      <td>13.0</td>\n",
       "      <td>Married-civ-spouse</td>\n",
       "      <td>Prof-specialty</td>\n",
       "      <td>Wife</td>\n",
       "      <td>Black</td>\n",
       "      <td>Female</td>\n",
       "      <td>0.0</td>\n",
       "      <td>0.0</td>\n",
       "      <td>40.0</td>\n",
       "      <td>Cuba</td>\n",
       "      <td>&lt;=50K</td>\n",
       "    </tr>\n",
       "  </tbody>\n",
       "</table>\n",
       "</div>"
      ],
      "text/plain": [
       "   age          workclass education_level  education-num       marital-status  \\\n",
       "0   39          State-gov       Bachelors           13.0        Never-married   \n",
       "1   50   Self-emp-not-inc       Bachelors           13.0   Married-civ-spouse   \n",
       "2   38            Private         HS-grad            9.0             Divorced   \n",
       "3   53            Private            11th            7.0   Married-civ-spouse   \n",
       "4   28            Private       Bachelors           13.0   Married-civ-spouse   \n",
       "\n",
       "           occupation    relationship    race      sex  capital-gain  \\\n",
       "0        Adm-clerical   Not-in-family   White     Male        2174.0   \n",
       "1     Exec-managerial         Husband   White     Male           0.0   \n",
       "2   Handlers-cleaners   Not-in-family   White     Male           0.0   \n",
       "3   Handlers-cleaners         Husband   Black     Male           0.0   \n",
       "4      Prof-specialty            Wife   Black   Female           0.0   \n",
       "\n",
       "   capital-loss  hours-per-week  native-country income  \n",
       "0           0.0            40.0   United-States  <=50K  \n",
       "1           0.0            13.0   United-States  <=50K  \n",
       "2           0.0            40.0   United-States  <=50K  \n",
       "3           0.0            40.0   United-States  <=50K  \n",
       "4           0.0            40.0            Cuba  <=50K  "
      ]
     },
     "execution_count": 158,
     "metadata": {},
     "output_type": "execute_result"
    }
   ],
   "source": [
    "# Load the Universal bank data\n",
    "\n",
    "census = pd.read_csv(r\"C:\\Users\\Asus\\OneDrive\\Desktop\\census.csv\", header=0)\n",
    "submission = pd.read_csv(r\"C:\\Users\\Asus\\OneDrive\\Desktop\\test_census.csv\")\n",
    "\n",
    "# Copy to back-up file\n",
    "\n",
    "census_bk = census.copy()\n",
    "\n",
    "# Display first 5 records\n",
    "\n",
    "census.head()"
   ]
  },
  {
   "cell_type": "code",
   "execution_count": 159,
   "id": "de52a2b2",
   "metadata": {},
   "outputs": [
    {
     "data": {
      "text/html": [
       "<div>\n",
       "<style scoped>\n",
       "    .dataframe tbody tr th:only-of-type {\n",
       "        vertical-align: middle;\n",
       "    }\n",
       "\n",
       "    .dataframe tbody tr th {\n",
       "        vertical-align: top;\n",
       "    }\n",
       "\n",
       "    .dataframe thead th {\n",
       "        text-align: right;\n",
       "    }\n",
       "</style>\n",
       "<table border=\"1\" class=\"dataframe\">\n",
       "  <thead>\n",
       "    <tr style=\"text-align: right;\">\n",
       "      <th></th>\n",
       "      <th>Unnamed: 0</th>\n",
       "      <th>age</th>\n",
       "      <th>workclass</th>\n",
       "      <th>education_level</th>\n",
       "      <th>education-num</th>\n",
       "      <th>marital-status</th>\n",
       "      <th>occupation</th>\n",
       "      <th>relationship</th>\n",
       "      <th>race</th>\n",
       "      <th>sex</th>\n",
       "      <th>capital-gain</th>\n",
       "      <th>capital-loss</th>\n",
       "      <th>hours-per-week</th>\n",
       "      <th>native-country</th>\n",
       "    </tr>\n",
       "  </thead>\n",
       "  <tbody>\n",
       "    <tr>\n",
       "      <th>0</th>\n",
       "      <td>0</td>\n",
       "      <td>21.0</td>\n",
       "      <td>Private</td>\n",
       "      <td>10th</td>\n",
       "      <td>6.0</td>\n",
       "      <td>Married-civ-spouse</td>\n",
       "      <td>Craft-repair</td>\n",
       "      <td>Husband</td>\n",
       "      <td>White</td>\n",
       "      <td>Male</td>\n",
       "      <td>0.0</td>\n",
       "      <td>0.0</td>\n",
       "      <td>40.0</td>\n",
       "      <td>United-States</td>\n",
       "    </tr>\n",
       "    <tr>\n",
       "      <th>1</th>\n",
       "      <td>1</td>\n",
       "      <td>49.0</td>\n",
       "      <td>Private</td>\n",
       "      <td>Bachelors</td>\n",
       "      <td>13.0</td>\n",
       "      <td>Married-civ-spouse</td>\n",
       "      <td>Adm-clerical</td>\n",
       "      <td>Wife</td>\n",
       "      <td>White</td>\n",
       "      <td>Female</td>\n",
       "      <td>0.0</td>\n",
       "      <td>0.0</td>\n",
       "      <td>40.0</td>\n",
       "      <td>United-States</td>\n",
       "    </tr>\n",
       "    <tr>\n",
       "      <th>2</th>\n",
       "      <td>2</td>\n",
       "      <td>44.0</td>\n",
       "      <td>Self-emp-not-inc</td>\n",
       "      <td>Assoc-acdm</td>\n",
       "      <td>12.0</td>\n",
       "      <td>Married-civ-spouse</td>\n",
       "      <td>Other-service</td>\n",
       "      <td>Wife</td>\n",
       "      <td>White</td>\n",
       "      <td>Female</td>\n",
       "      <td>0.0</td>\n",
       "      <td>0.0</td>\n",
       "      <td>99.0</td>\n",
       "      <td>United-States</td>\n",
       "    </tr>\n",
       "    <tr>\n",
       "      <th>3</th>\n",
       "      <td>3</td>\n",
       "      <td>34.0</td>\n",
       "      <td>Private</td>\n",
       "      <td>Bachelors</td>\n",
       "      <td>13.0</td>\n",
       "      <td>Married-civ-spouse</td>\n",
       "      <td>Sales</td>\n",
       "      <td>Husband</td>\n",
       "      <td>White</td>\n",
       "      <td>Male</td>\n",
       "      <td>7298.0</td>\n",
       "      <td>0.0</td>\n",
       "      <td>46.0</td>\n",
       "      <td>United-States</td>\n",
       "    </tr>\n",
       "    <tr>\n",
       "      <th>4</th>\n",
       "      <td>4</td>\n",
       "      <td>24.0</td>\n",
       "      <td>Private</td>\n",
       "      <td>HS-grad</td>\n",
       "      <td>9.0</td>\n",
       "      <td>Married-civ-spouse</td>\n",
       "      <td>Machine-op-inspct</td>\n",
       "      <td>Husband</td>\n",
       "      <td>White</td>\n",
       "      <td>Male</td>\n",
       "      <td>0.0</td>\n",
       "      <td>0.0</td>\n",
       "      <td>40.0</td>\n",
       "      <td>United-States</td>\n",
       "    </tr>\n",
       "  </tbody>\n",
       "</table>\n",
       "</div>"
      ],
      "text/plain": [
       "   Unnamed: 0   age          workclass education_level  education-num  \\\n",
       "0           0  21.0            Private            10th            6.0   \n",
       "1           1  49.0            Private       Bachelors           13.0   \n",
       "2           2  44.0   Self-emp-not-inc      Assoc-acdm           12.0   \n",
       "3           3  34.0            Private       Bachelors           13.0   \n",
       "4           4  24.0            Private         HS-grad            9.0   \n",
       "\n",
       "        marital-status          occupation relationship    race      sex  \\\n",
       "0   Married-civ-spouse        Craft-repair      Husband   White     Male   \n",
       "1   Married-civ-spouse        Adm-clerical         Wife   White   Female   \n",
       "2   Married-civ-spouse       Other-service         Wife   White   Female   \n",
       "3   Married-civ-spouse               Sales      Husband   White     Male   \n",
       "4   Married-civ-spouse   Machine-op-inspct      Husband   White     Male   \n",
       "\n",
       "   capital-gain  capital-loss  hours-per-week  native-country  \n",
       "0           0.0           0.0            40.0   United-States  \n",
       "1           0.0           0.0            40.0   United-States  \n",
       "2           0.0           0.0            99.0   United-States  \n",
       "3        7298.0           0.0            46.0   United-States  \n",
       "4           0.0           0.0            40.0   United-States  "
      ]
     },
     "execution_count": 159,
     "metadata": {},
     "output_type": "execute_result"
    }
   ],
   "source": [
    "submission.head()"
   ]
  },
  {
   "cell_type": "code",
   "execution_count": 160,
   "id": "99f9a0f0",
   "metadata": {},
   "outputs": [],
   "source": [
    "#remove unwanted columns in submission dataset\n",
    "del submission['Unnamed: 0']"
   ]
  },
  {
   "cell_type": "code",
   "execution_count": 161,
   "id": "b7d3b22f",
   "metadata": {},
   "outputs": [
    {
     "name": "stdout",
     "output_type": "stream",
     "text": [
      "<class 'pandas.core.frame.DataFrame'>\n",
      "RangeIndex: 45222 entries, 0 to 45221\n",
      "Data columns (total 13 columns):\n",
      " #   Column           Non-Null Count  Dtype  \n",
      "---  ------           --------------  -----  \n",
      " 0   age              45205 non-null  float64\n",
      " 1   workclass        45200 non-null  object \n",
      " 2   education_level  45202 non-null  object \n",
      " 3   education-num    45208 non-null  float64\n",
      " 4   marital-status   45201 non-null  object \n",
      " 5   occupation       45200 non-null  object \n",
      " 6   relationship     45206 non-null  object \n",
      " 7   race             45203 non-null  object \n",
      " 8   sex              45203 non-null  object \n",
      " 9   capital-gain     45207 non-null  float64\n",
      " 10  capital-loss     45205 non-null  float64\n",
      " 11  hours-per-week   45209 non-null  float64\n",
      " 12  native-country   45206 non-null  object \n",
      "dtypes: float64(5), object(8)\n",
      "memory usage: 4.5+ MB\n"
     ]
    }
   ],
   "source": [
    "#checking the info of the census dataset\n",
    "submission.info()"
   ]
  },
  {
   "cell_type": "code",
   "execution_count": 162,
   "id": "c0b3dddb",
   "metadata": {},
   "outputs": [
    {
     "name": "stdout",
     "output_type": "stream",
     "text": [
      "<class 'pandas.core.frame.DataFrame'>\n",
      "RangeIndex: 45222 entries, 0 to 45221\n",
      "Data columns (total 14 columns):\n",
      " #   Column           Non-Null Count  Dtype  \n",
      "---  ------           --------------  -----  \n",
      " 0   age              45222 non-null  int64  \n",
      " 1   workclass        45222 non-null  object \n",
      " 2   education_level  45222 non-null  object \n",
      " 3   education-num    45222 non-null  float64\n",
      " 4   marital-status   45222 non-null  object \n",
      " 5   occupation       45222 non-null  object \n",
      " 6   relationship     45222 non-null  object \n",
      " 7   race             45222 non-null  object \n",
      " 8   sex              45222 non-null  object \n",
      " 9   capital-gain     45222 non-null  float64\n",
      " 10  capital-loss     45222 non-null  float64\n",
      " 11  hours-per-week   45222 non-null  float64\n",
      " 12  native-country   45222 non-null  object \n",
      " 13  income           45222 non-null  object \n",
      "dtypes: float64(4), int64(1), object(9)\n",
      "memory usage: 4.8+ MB\n"
     ]
    }
   ],
   "source": [
    "#checking the info of the census dataset\n",
    "census.info()"
   ]
  },
  {
   "cell_type": "code",
   "execution_count": 163,
   "id": "31245b46",
   "metadata": {},
   "outputs": [],
   "source": [
    "#we need to convert string into int. in submission dataset\n",
    "#by using LabelEncodeer/LabelBinarizer(if our variable is having two categories)/ maually(if that variable is in ordinal'fallow the order) etc.\n",
    "from sklearn.preprocessing import LabelEncoder\n",
    "le =LabelEncoder()\n",
    "submission['marital-status'] = le.fit_transform(submission['marital-status'])\n",
    "submission['occupation'] = le.fit_transform(submission['occupation'])\n",
    "submission['relationship'] = le.fit_transform(submission['relationship'])\n",
    "submission['native-country'] = le.fit_transform(submission['native-country'])\n",
    "submission['workclass'] = le.fit_transform(submission['workclass'])\n",
    "submission['education_level'] = le.fit_transform(submission['education_level'])\n",
    "\n",
    "\n",
    "submission['race'] = le.fit_transform(submission['race'])\n",
    "submission['sex'] = le.fit_transform(submission['sex'])\n"
   ]
  },
  {
   "cell_type": "code",
   "execution_count": 164,
   "id": "65c523d5",
   "metadata": {},
   "outputs": [
    {
     "name": "stdout",
     "output_type": "stream",
     "text": [
      "<class 'pandas.core.frame.DataFrame'>\n",
      "RangeIndex: 45222 entries, 0 to 45221\n",
      "Data columns (total 13 columns):\n",
      " #   Column           Non-Null Count  Dtype  \n",
      "---  ------           --------------  -----  \n",
      " 0   age              45205 non-null  float64\n",
      " 1   workclass        45222 non-null  int32  \n",
      " 2   education_level  45222 non-null  int32  \n",
      " 3   education-num    45208 non-null  float64\n",
      " 4   marital-status   45222 non-null  int32  \n",
      " 5   occupation       45222 non-null  int32  \n",
      " 6   relationship     45222 non-null  int32  \n",
      " 7   race             45222 non-null  int32  \n",
      " 8   sex              45222 non-null  int32  \n",
      " 9   capital-gain     45207 non-null  float64\n",
      " 10  capital-loss     45205 non-null  float64\n",
      " 11  hours-per-week   45209 non-null  float64\n",
      " 12  native-country   45222 non-null  int32  \n",
      "dtypes: float64(5), int32(8)\n",
      "memory usage: 3.1 MB\n"
     ]
    }
   ],
   "source": [
    "#again checking the info of the submission dataset\n",
    "submission.info()"
   ]
  },
  {
   "cell_type": "code",
   "execution_count": 165,
   "id": "a223d132",
   "metadata": {},
   "outputs": [],
   "source": [
    "#we need to convert string into int.\n",
    "#by using LabelEncodeer/LabelBinarizer(if our variable is having two categories)/ maually(if that variable is in ordinal'fallow the order) etc.\n",
    "from sklearn.preprocessing import LabelEncoder\n",
    "le =LabelEncoder()\n",
    "census['marital-status'] = le.fit_transform(census['marital-status'])\n",
    "census['occupation'] = le.fit_transform(census['occupation'])\n",
    "census['relationship'] = le.fit_transform(census['relationship'])\n",
    "census['native-country'] = le.fit_transform(census['native-country'])\n",
    "census['workclass'] = le.fit_transform(census['workclass'])\n",
    "census['education_level'] = le.fit_transform(census['education_level'])\n",
    "\n",
    "#by using LabelBinarizer\n",
    "from sklearn.preprocessing import LabelBinarizer\n",
    "lb =LabelBinarizer()\n",
    "census['race'] = lb.fit_transform(census['race'])\n",
    "census['sex'] = lb.fit_transform(census['sex'])\n",
    "\n",
    "#by using manually\n"
   ]
  },
  {
   "cell_type": "code",
   "execution_count": 166,
   "id": "ff30a649",
   "metadata": {},
   "outputs": [
    {
     "name": "stdout",
     "output_type": "stream",
     "text": [
      "<class 'pandas.core.frame.DataFrame'>\n",
      "RangeIndex: 45222 entries, 0 to 45221\n",
      "Data columns (total 14 columns):\n",
      " #   Column           Non-Null Count  Dtype  \n",
      "---  ------           --------------  -----  \n",
      " 0   age              45222 non-null  int64  \n",
      " 1   workclass        45222 non-null  int32  \n",
      " 2   education_level  45222 non-null  int32  \n",
      " 3   education-num    45222 non-null  float64\n",
      " 4   marital-status   45222 non-null  int32  \n",
      " 5   occupation       45222 non-null  int32  \n",
      " 6   relationship     45222 non-null  int32  \n",
      " 7   race             45222 non-null  int32  \n",
      " 8   sex              45222 non-null  int32  \n",
      " 9   capital-gain     45222 non-null  float64\n",
      " 10  capital-loss     45222 non-null  float64\n",
      " 11  hours-per-week   45222 non-null  float64\n",
      " 12  native-country   45222 non-null  int32  \n",
      " 13  income           45222 non-null  object \n",
      "dtypes: float64(4), int32(8), int64(1), object(1)\n",
      "memory usage: 3.5+ MB\n"
     ]
    }
   ],
   "source": [
    "#checking the info of the census dataset\n",
    "census.info()"
   ]
  },
  {
   "cell_type": "code",
   "execution_count": 167,
   "id": "90b5a1e0",
   "metadata": {},
   "outputs": [
    {
     "data": {
      "text/plain": [
       "11    14783\n",
       "15     9899\n",
       "9      7570\n",
       "12     2514\n",
       "8      1959\n",
       "1      1619\n",
       "7      1507\n",
       "0      1223\n",
       "5       823\n",
       "14      785\n",
       "6       676\n",
       "2       577\n",
       "10      544\n",
       "4       449\n",
       "3       222\n",
       "13       72\n",
       "Name: education_level, dtype: int64"
      ]
     },
     "execution_count": 167,
     "metadata": {},
     "output_type": "execute_result"
    }
   ],
   "source": [
    "#here we need to do manually but its optional\n",
    "census.education_level.value_counts()"
   ]
  },
  {
   "cell_type": "code",
   "execution_count": 168,
   "id": "280d331b",
   "metadata": {},
   "outputs": [
    {
     "data": {
      "text/plain": [
       "\"#remove unwanted columns\\ndel census['education-num']\\ndel census['race']\\ndel census['sex']\\n#del census['capital-gain']\\n#del census['capital-loss']\\ndel census['marital-status']\""
      ]
     },
     "execution_count": 168,
     "metadata": {},
     "output_type": "execute_result"
    }
   ],
   "source": [
    "'''#remove unwanted columns\n",
    "del census['education-num']\n",
    "del census['race']\n",
    "del census['sex']\n",
    "#del census['capital-gain']\n",
    "#del census['capital-loss']\n",
    "del census['marital-status']'''"
   ]
  },
  {
   "cell_type": "code",
   "execution_count": 169,
   "id": "b375c57b",
   "metadata": {},
   "outputs": [
    {
     "data": {
      "text/plain": [
       "<=50K    34014\n",
       ">50K     11208\n",
       "Name: income, dtype: int64"
      ]
     },
     "execution_count": 169,
     "metadata": {},
     "output_type": "execute_result"
    }
   ],
   "source": [
    "#we need to convert income as a object to int.(income is our target variable)\n",
    "census.income.value_counts()"
   ]
  },
  {
   "cell_type": "code",
   "execution_count": 170,
   "id": "2c787c51",
   "metadata": {},
   "outputs": [],
   "source": [
    "#by using LabelBinarizer\n",
    "census['income'] = lb.fit_transform(census['income'])"
   ]
  },
  {
   "cell_type": "code",
   "execution_count": 172,
   "id": "cf9c2a15",
   "metadata": {},
   "outputs": [
    {
     "data": {
      "text/plain": [
       "age                0\n",
       "workclass          0\n",
       "education_level    0\n",
       "education-num      0\n",
       "marital-status     0\n",
       "occupation         0\n",
       "relationship       0\n",
       "race               0\n",
       "sex                0\n",
       "capital-gain       0\n",
       "capital-loss       0\n",
       "hours-per-week     0\n",
       "native-country     0\n",
       "income             0\n",
       "dtype: int64"
      ]
     },
     "execution_count": 172,
     "metadata": {},
     "output_type": "execute_result"
    }
   ],
   "source": [
    "#we need to checking the null values in census dataset\n",
    "census.isna().sum()"
   ]
  },
  {
   "cell_type": "code",
   "execution_count": 175,
   "id": "8c83c3e1",
   "metadata": {},
   "outputs": [
    {
     "data": {
      "text/plain": [
       "age                17\n",
       "workclass           0\n",
       "education_level     0\n",
       "education-num      14\n",
       "marital-status      0\n",
       "occupation          0\n",
       "relationship        0\n",
       "race                0\n",
       "sex                 0\n",
       "capital-gain       15\n",
       "capital-loss       17\n",
       "hours-per-week     13\n",
       "native-country      0\n",
       "dtype: int64"
      ]
     },
     "execution_count": 175,
     "metadata": {},
     "output_type": "execute_result"
    }
   ],
   "source": [
    "#we need to checking the null values in submission dataset\n",
    "submission.isnull().sum()"
   ]
  },
  {
   "cell_type": "code",
   "execution_count": 176,
   "id": "2db1db3a",
   "metadata": {},
   "outputs": [
    {
     "data": {
      "text/plain": [
       "age                17\n",
       "workclass           0\n",
       "education_level     0\n",
       "education-num      14\n",
       "marital-status      0\n",
       "occupation          0\n",
       "relationship        0\n",
       "race                0\n",
       "sex                 0\n",
       "capital-gain       15\n",
       "capital-loss       17\n",
       "hours-per-week     13\n",
       "native-country      0\n",
       "dtype: int64"
      ]
     },
     "execution_count": 176,
     "metadata": {},
     "output_type": "execute_result"
    }
   ],
   "source": [
    "submission.isnull().sum()"
   ]
  },
  {
   "cell_type": "code",
   "execution_count": 177,
   "id": "82212f22",
   "metadata": {},
   "outputs": [],
   "source": [
    "#using backward filling method.\n",
    "submission.fillna(method='bfill',inplace=True)"
   ]
  },
  {
   "cell_type": "code",
   "execution_count": 178,
   "id": "bf90efb0",
   "metadata": {},
   "outputs": [
    {
     "data": {
      "text/plain": [
       "0        False\n",
       "1        False\n",
       "2        False\n",
       "3        False\n",
       "4        False\n",
       "         ...  \n",
       "45217    False\n",
       "45218    False\n",
       "45219     True\n",
       "45220    False\n",
       "45221    False\n",
       "Length: 45222, dtype: bool"
      ]
     },
     "execution_count": 178,
     "metadata": {},
     "output_type": "execute_result"
    }
   ],
   "source": [
    "#checking the duplicate values\n",
    "census.duplicated()"
   ]
  },
  {
   "cell_type": "code",
   "execution_count": 179,
   "id": "bc74c582",
   "metadata": {},
   "outputs": [],
   "source": [
    "#Create a single column.\n",
    "\n",
    "census['capital-net'] = census['capital-gain'] - census['capital-loss']\n",
    "submission['capital-net'] = submission['capital-gain'] - submission['capital-loss']"
   ]
  },
  {
   "cell_type": "code",
   "execution_count": 180,
   "id": "2f292c6b",
   "metadata": {},
   "outputs": [
    {
     "data": {
      "text/html": [
       "<div>\n",
       "<style scoped>\n",
       "    .dataframe tbody tr th:only-of-type {\n",
       "        vertical-align: middle;\n",
       "    }\n",
       "\n",
       "    .dataframe tbody tr th {\n",
       "        vertical-align: top;\n",
       "    }\n",
       "\n",
       "    .dataframe thead th {\n",
       "        text-align: right;\n",
       "    }\n",
       "</style>\n",
       "<table border=\"1\" class=\"dataframe\">\n",
       "  <thead>\n",
       "    <tr style=\"text-align: right;\">\n",
       "      <th></th>\n",
       "      <th>age</th>\n",
       "      <th>workclass</th>\n",
       "      <th>education_level</th>\n",
       "      <th>education-num</th>\n",
       "      <th>marital-status</th>\n",
       "      <th>occupation</th>\n",
       "      <th>relationship</th>\n",
       "      <th>race</th>\n",
       "      <th>sex</th>\n",
       "      <th>capital-gain</th>\n",
       "      <th>capital-loss</th>\n",
       "      <th>hours-per-week</th>\n",
       "      <th>native-country</th>\n",
       "      <th>income</th>\n",
       "      <th>capital-net</th>\n",
       "    </tr>\n",
       "  </thead>\n",
       "  <tbody>\n",
       "    <tr>\n",
       "      <th>0</th>\n",
       "      <td>39</td>\n",
       "      <td>5</td>\n",
       "      <td>9</td>\n",
       "      <td>13.0</td>\n",
       "      <td>4</td>\n",
       "      <td>0</td>\n",
       "      <td>1</td>\n",
       "      <td>0</td>\n",
       "      <td>1</td>\n",
       "      <td>2174.0</td>\n",
       "      <td>0.0</td>\n",
       "      <td>40.0</td>\n",
       "      <td>38</td>\n",
       "      <td>0</td>\n",
       "      <td>2174.0</td>\n",
       "    </tr>\n",
       "  </tbody>\n",
       "</table>\n",
       "</div>"
      ],
      "text/plain": [
       "   age  workclass  education_level  education-num  marital-status  occupation  \\\n",
       "0   39          5                9           13.0               4           0   \n",
       "\n",
       "   relationship  race  sex  capital-gain  capital-loss  hours-per-week  \\\n",
       "0             1     0    1        2174.0           0.0            40.0   \n",
       "\n",
       "   native-country  income  capital-net  \n",
       "0              38       0       2174.0  "
      ]
     },
     "execution_count": 180,
     "metadata": {},
     "output_type": "execute_result"
    }
   ],
   "source": [
    "census.head(1)"
   ]
  },
  {
   "cell_type": "code",
   "execution_count": 184,
   "id": "881dfda1",
   "metadata": {},
   "outputs": [],
   "source": [
    "del census['capital-gain']\n",
    "del census['capital-loss']"
   ]
  },
  {
   "cell_type": "code",
   "execution_count": 135,
   "id": "5a4d27c0",
   "metadata": {},
   "outputs": [
    {
     "data": {
      "text/html": [
       "<div>\n",
       "<style scoped>\n",
       "    .dataframe tbody tr th:only-of-type {\n",
       "        vertical-align: middle;\n",
       "    }\n",
       "\n",
       "    .dataframe tbody tr th {\n",
       "        vertical-align: top;\n",
       "    }\n",
       "\n",
       "    .dataframe thead th {\n",
       "        text-align: right;\n",
       "    }\n",
       "</style>\n",
       "<table border=\"1\" class=\"dataframe\">\n",
       "  <thead>\n",
       "    <tr style=\"text-align: right;\">\n",
       "      <th></th>\n",
       "      <th>age</th>\n",
       "      <th>workclass</th>\n",
       "      <th>education_level</th>\n",
       "      <th>education-num</th>\n",
       "      <th>marital-status</th>\n",
       "      <th>occupation</th>\n",
       "      <th>relationship</th>\n",
       "      <th>race</th>\n",
       "      <th>sex</th>\n",
       "      <th>capital-gain</th>\n",
       "      <th>capital-loss</th>\n",
       "      <th>hours-per-week</th>\n",
       "      <th>native-country</th>\n",
       "      <th>capital-net</th>\n",
       "    </tr>\n",
       "  </thead>\n",
       "  <tbody>\n",
       "    <tr>\n",
       "      <th>0</th>\n",
       "      <td>21.0</td>\n",
       "      <td>2</td>\n",
       "      <td>0</td>\n",
       "      <td>6.0</td>\n",
       "      <td>2</td>\n",
       "      <td>2</td>\n",
       "      <td>0</td>\n",
       "      <td>4</td>\n",
       "      <td>1</td>\n",
       "      <td>0.0</td>\n",
       "      <td>0.0</td>\n",
       "      <td>40.0</td>\n",
       "      <td>38</td>\n",
       "      <td>0.0</td>\n",
       "    </tr>\n",
       "  </tbody>\n",
       "</table>\n",
       "</div>"
      ],
      "text/plain": [
       "    age  workclass  education_level  education-num  marital-status  \\\n",
       "0  21.0          2                0            6.0               2   \n",
       "\n",
       "   occupation  relationship  race  sex  capital-gain  capital-loss  \\\n",
       "0           2             0     4    1           0.0           0.0   \n",
       "\n",
       "   hours-per-week  native-country  capital-net  \n",
       "0            40.0              38          0.0  "
      ]
     },
     "execution_count": 135,
     "metadata": {},
     "output_type": "execute_result"
    }
   ],
   "source": [
    "submission.head(1)"
   ]
  },
  {
   "cell_type": "code",
   "execution_count": 185,
   "id": "5d2618e2",
   "metadata": {},
   "outputs": [],
   "source": [
    "del submission['capital-gain']\n",
    "del submission['capital-loss']"
   ]
  },
  {
   "cell_type": "code",
   "execution_count": 186,
   "id": "1dabf76a",
   "metadata": {},
   "outputs": [
    {
     "data": {
      "text/html": [
       "<div>\n",
       "<style scoped>\n",
       "    .dataframe tbody tr th:only-of-type {\n",
       "        vertical-align: middle;\n",
       "    }\n",
       "\n",
       "    .dataframe tbody tr th {\n",
       "        vertical-align: top;\n",
       "    }\n",
       "\n",
       "    .dataframe thead th {\n",
       "        text-align: right;\n",
       "    }\n",
       "</style>\n",
       "<table border=\"1\" class=\"dataframe\">\n",
       "  <thead>\n",
       "    <tr style=\"text-align: right;\">\n",
       "      <th></th>\n",
       "      <th>age</th>\n",
       "      <th>workclass</th>\n",
       "      <th>education_level</th>\n",
       "      <th>education-num</th>\n",
       "      <th>marital-status</th>\n",
       "      <th>occupation</th>\n",
       "      <th>relationship</th>\n",
       "      <th>race</th>\n",
       "      <th>sex</th>\n",
       "      <th>hours-per-week</th>\n",
       "      <th>native-country</th>\n",
       "      <th>capital-net</th>\n",
       "    </tr>\n",
       "  </thead>\n",
       "  <tbody>\n",
       "    <tr>\n",
       "      <th>0</th>\n",
       "      <td>21.0</td>\n",
       "      <td>2</td>\n",
       "      <td>0</td>\n",
       "      <td>6.0</td>\n",
       "      <td>2</td>\n",
       "      <td>2</td>\n",
       "      <td>0</td>\n",
       "      <td>4</td>\n",
       "      <td>1</td>\n",
       "      <td>40.0</td>\n",
       "      <td>38</td>\n",
       "      <td>0.0</td>\n",
       "    </tr>\n",
       "  </tbody>\n",
       "</table>\n",
       "</div>"
      ],
      "text/plain": [
       "    age  workclass  education_level  education-num  marital-status  \\\n",
       "0  21.0          2                0            6.0               2   \n",
       "\n",
       "   occupation  relationship  race  sex  hours-per-week  native-country  \\\n",
       "0           2             0     4    1            40.0              38   \n",
       "\n",
       "   capital-net  \n",
       "0          0.0  "
      ]
     },
     "execution_count": 186,
     "metadata": {},
     "output_type": "execute_result"
    }
   ],
   "source": [
    "submission.head(1)"
   ]
  },
  {
   "cell_type": "code",
   "execution_count": 187,
   "id": "9d913d2a",
   "metadata": {},
   "outputs": [
    {
     "data": {
      "text/html": [
       "<div>\n",
       "<style scoped>\n",
       "    .dataframe tbody tr th:only-of-type {\n",
       "        vertical-align: middle;\n",
       "    }\n",
       "\n",
       "    .dataframe tbody tr th {\n",
       "        vertical-align: top;\n",
       "    }\n",
       "\n",
       "    .dataframe thead th {\n",
       "        text-align: right;\n",
       "    }\n",
       "</style>\n",
       "<table border=\"1\" class=\"dataframe\">\n",
       "  <thead>\n",
       "    <tr style=\"text-align: right;\">\n",
       "      <th></th>\n",
       "      <th>age</th>\n",
       "      <th>workclass</th>\n",
       "      <th>education_level</th>\n",
       "      <th>education-num</th>\n",
       "      <th>marital-status</th>\n",
       "      <th>occupation</th>\n",
       "      <th>relationship</th>\n",
       "      <th>race</th>\n",
       "      <th>sex</th>\n",
       "      <th>hours-per-week</th>\n",
       "      <th>native-country</th>\n",
       "      <th>income</th>\n",
       "      <th>capital-net</th>\n",
       "    </tr>\n",
       "  </thead>\n",
       "  <tbody>\n",
       "    <tr>\n",
       "      <th>0</th>\n",
       "      <td>39</td>\n",
       "      <td>5</td>\n",
       "      <td>9</td>\n",
       "      <td>13.0</td>\n",
       "      <td>4</td>\n",
       "      <td>0</td>\n",
       "      <td>1</td>\n",
       "      <td>0</td>\n",
       "      <td>1</td>\n",
       "      <td>40.0</td>\n",
       "      <td>38</td>\n",
       "      <td>0</td>\n",
       "      <td>2174.0</td>\n",
       "    </tr>\n",
       "  </tbody>\n",
       "</table>\n",
       "</div>"
      ],
      "text/plain": [
       "   age  workclass  education_level  education-num  marital-status  occupation  \\\n",
       "0   39          5                9           13.0               4           0   \n",
       "\n",
       "   relationship  race  sex  hours-per-week  native-country  income  \\\n",
       "0             1     0    1            40.0              38       0   \n",
       "\n",
       "   capital-net  \n",
       "0       2174.0  "
      ]
     },
     "execution_count": 187,
     "metadata": {},
     "output_type": "execute_result"
    }
   ],
   "source": [
    "census.head(1)"
   ]
  },
  {
   "cell_type": "code",
   "execution_count": 189,
   "id": "23a5950b",
   "metadata": {},
   "outputs": [
    {
     "name": "stdout",
     "output_type": "stream",
     "text": [
      "minor: 34014\n",
      "major: 11208\n",
      "ratio: 3.03 :1\n",
      "total records in census: 45222\n"
     ]
    }
   ],
   "source": [
    "#count the target variable in our dataset\n",
    "income_count = census.income.value_counts()\n",
    "print('minor:',income_count[0]);\n",
    "print('major:',income_count[1]);\n",
    "print('ratio:',round(income_count[0]/income_count[1],2),':1')\n",
    "print('total records in census:',len(census))"
   ]
  },
  {
   "cell_type": "code",
   "execution_count": 190,
   "id": "00ab6c54",
   "metadata": {},
   "outputs": [],
   "source": [
    "# Identify the Independent and Target variables\n",
    "independent_var=[]\n",
    "for col in census.columns:\n",
    "    if col!='income':\n",
    "        independent_var.append(col)\n",
    "target_var='income'\n",
    "\n",
    "x=census[independent_var]\n",
    "y=census[target_var]"
   ]
  },
  {
   "cell_type": "code",
   "execution_count": 191,
   "id": "74d77b04",
   "metadata": {},
   "outputs": [
    {
     "data": {
      "text/plain": [
       "((31655, 12), (13567, 12), (31655,), (13567,))"
      ]
     },
     "execution_count": 191,
     "metadata": {},
     "output_type": "execute_result"
    }
   ],
   "source": [
    "# Splitting the dataset into train and test \n",
    "\n",
    "from sklearn.model_selection import train_test_split\n",
    "\n",
    "x_train, x_test, y_train, y_test = train_test_split(x, y, test_size = 0.3, random_state = 42)\n",
    "x_train.shape, x_test.shape, y_train.shape, y_test.shape"
   ]
  },
  {
   "cell_type": "code",
   "execution_count": 192,
   "id": "b4c1bc49",
   "metadata": {},
   "outputs": [],
   "source": [
    "# Scaling the features by using MinMaxScaler\n",
    "\n",
    "from sklearn.preprocessing import MinMaxScaler\n",
    "\n",
    "mmscaler = MinMaxScaler(feature_range=(0, 1))\n",
    "\n",
    "x_train = mmscaler.fit_transform(x_train)\n",
    "x_train = pd.DataFrame(x_train)\n",
    "\n",
    "x_test = mmscaler.fit_transform(x_test)\n",
    "x_test = pd.DataFrame(x_test)"
   ]
  },
  {
   "cell_type": "code",
   "execution_count": 193,
   "id": "154375c2",
   "metadata": {},
   "outputs": [
    {
     "data": {
      "text/html": [
       "<div>\n",
       "<style scoped>\n",
       "    .dataframe tbody tr th:only-of-type {\n",
       "        vertical-align: middle;\n",
       "    }\n",
       "\n",
       "    .dataframe tbody tr th {\n",
       "        vertical-align: top;\n",
       "    }\n",
       "\n",
       "    .dataframe thead th {\n",
       "        text-align: right;\n",
       "    }\n",
       "</style>\n",
       "<table border=\"1\" class=\"dataframe\">\n",
       "  <thead>\n",
       "    <tr style=\"text-align: right;\">\n",
       "      <th></th>\n",
       "      <th>Model Name</th>\n",
       "      <th>True Positive</th>\n",
       "      <th>False Positive</th>\n",
       "      <th>True Negative</th>\n",
       "      <th>False Negative</th>\n",
       "      <th>Precision</th>\n",
       "      <th>Recall</th>\n",
       "      <th>F1 Score</th>\n",
       "      <th>Specificity</th>\n",
       "      <th>MCC</th>\n",
       "      <th>ROC_AUC_Score</th>\n",
       "      <th>Balanced Accuracy</th>\n",
       "      <th>Accuracy</th>\n",
       "    </tr>\n",
       "  </thead>\n",
       "  <tbody>\n",
       "  </tbody>\n",
       "</table>\n",
       "</div>"
      ],
      "text/plain": [
       "Empty DataFrame\n",
       "Columns: [Model Name, True Positive, False Positive, True Negative, False Negative, Precision, Recall, F1 Score, Specificity, MCC, ROC_AUC_Score, Balanced Accuracy, Accuracy]\n",
       "Index: []"
      ]
     },
     "execution_count": 193,
     "metadata": {},
     "output_type": "execute_result"
    }
   ],
   "source": [
    "#resultant dataset\n",
    "census_Results = pd.read_csv(r\"C:\\Users\\Asus\\OneDrive\\Desktop\\bank_reults _022.csv\")\n",
    "census_Results"
   ]
  },
  {
   "cell_type": "code",
   "execution_count": 194,
   "id": "e89165a9",
   "metadata": {},
   "outputs": [
    {
     "name": "stdout",
     "output_type": "stream",
     "text": [
      "Method:  RandomForestClassifier(random_state=42)\n",
      "Confusion matrix : \n",
      " [[2040 1334]\n",
      " [ 884 9309]]\n",
      "Outcome values : \n",
      " 2040 1334 884 9309\n",
      "Classification report : \n",
      "               precision    recall  f1-score   support\n",
      "\n",
      "           1       0.70      0.60      0.65      3374\n",
      "           0       0.87      0.91      0.89     10193\n",
      "\n",
      "    accuracy                           0.84     13567\n",
      "   macro avg       0.79      0.76      0.77     13567\n",
      "weighted avg       0.83      0.84      0.83     13567\n",
      "\n",
      "Accuracy : 83.7 %\n",
      "Precision : 69.8 %\n",
      "Recall : 60.5 %\n",
      "F1 Score : 0.648\n",
      "Balanced Accuracy : 75.9 %\n",
      "MCC : 0.544\n",
      "roc_auc_score: 0.759\n"
     ]
    },
    {
     "data": {
      "image/png": "[encoded data removed]",
      "text/plain": [
       "<Figure size 432x288 with 1 Axes>"
      ]
     },
     "metadata": {
      "needs_background": "light"
     },
     "output_type": "display_data"
    },
    {
     "name": "stdout",
     "output_type": "stream",
     "text": [
      "-----------------------------------------------------------------------\n",
      "Method:  LogisticRegression(random_state=42)\n",
      "Confusion matrix : \n",
      " [[1381 1993]\n",
      " [ 519 9674]]\n",
      "Outcome values : \n",
      " 1381 1993 519 9674\n",
      "Classification report : \n",
      "               precision    recall  f1-score   support\n",
      "\n",
      "           1       0.73      0.41      0.52      3374\n",
      "           0       0.83      0.95      0.89     10193\n",
      "\n",
      "    accuracy                           0.81     13567\n",
      "   macro avg       0.78      0.68      0.70     13567\n",
      "weighted avg       0.80      0.81      0.80     13567\n",
      "\n",
      "Accuracy : 81.5 %\n",
      "Precision : 72.7 %\n",
      "Recall : 40.9 %\n",
      "F1 Score : 0.524\n",
      "Balanced Accuracy : 67.9 %\n",
      "MCC : 0.446\n",
      "roc_auc_score: 0.679\n"
     ]
    },
    {
     "data": {
      "image/png": "[encoded data removed]",
      "text/plain": [
       "<Figure size 432x288 with 1 Axes>"
      ]
     },
     "metadata": {
      "needs_background": "light"
     },
     "output_type": "display_data"
    },
    {
     "name": "stdout",
     "output_type": "stream",
     "text": [
      "-----------------------------------------------------------------------\n",
      "Method:  DecisionTreeClassifier(random_state=42)\n",
      "Confusion matrix : \n",
      " [[1881 1493]\n",
      " [1313 8880]]\n",
      "Outcome values : \n",
      " 1881 1493 1313 8880\n",
      "Classification report : \n",
      "               precision    recall  f1-score   support\n",
      "\n",
      "           1       0.59      0.56      0.57      3374\n",
      "           0       0.86      0.87      0.86     10193\n",
      "\n",
      "    accuracy                           0.79     13567\n",
      "   macro avg       0.72      0.71      0.72     13567\n",
      "weighted avg       0.79      0.79      0.79     13567\n",
      "\n",
      "Accuracy : 79.3 %\n",
      "Precision : 58.9 %\n",
      "Recall : 55.7 %\n",
      "F1 Score : 0.573\n",
      "Balanced Accuracy : 71.4 %\n",
      "MCC : 0.437\n",
      "roc_auc_score: 0.714\n"
     ]
    },
    {
     "data": {
      "image/png": "[encoded data removed]",
      "text/plain": [
       "<Figure size 432x288 with 1 Axes>"
      ]
     },
     "metadata": {
      "needs_background": "light"
     },
     "output_type": "display_data"
    },
    {
     "name": "stdout",
     "output_type": "stream",
     "text": [
      "-----------------------------------------------------------------------\n",
      "Method:  XGBClassifier(base_score=None, booster=None, callbacks=None,\n",
      "              colsample_bylevel=None, colsample_bynode=None,\n",
      "              colsample_bytree=None, early_stopping_rounds=None,\n",
      "              enable_categorical=False, eval_metric=None, gamma=None,\n",
      "              gpu_id=None, grow_policy=None, importance_type=None,\n",
      "              interaction_constraints=None, learning_rate=None, max_bin=None,\n",
      "              max_cat_to_onehot=None, max_delta_step=None, max_depth=None,\n",
      "              max_leaves=None, min_child_weight=None, missing=nan,\n",
      "              monotone_constraints=None, n_estimators=100, n_jobs=None,\n",
      "              num_parallel_tree=None, predictor=None, random_state=42,\n",
      "              reg_alpha=None, reg_lambda=None, ...)\n",
      "Confusion matrix : \n",
      " [[ 1066  2308]\n",
      " [  161 10032]]\n",
      "Outcome values : \n",
      " 1066 2308 161 10032\n",
      "Classification report : \n",
      "               precision    recall  f1-score   support\n",
      "\n",
      "           1       0.87      0.32      0.46      3374\n",
      "           0       0.81      0.98      0.89     10193\n",
      "\n",
      "    accuracy                           0.82     13567\n",
      "   macro avg       0.84      0.65      0.68     13567\n",
      "weighted avg       0.83      0.82      0.78     13567\n",
      "\n",
      "Accuracy : 81.8 %\n",
      "Precision : 86.9 %\n",
      "Recall : 31.6 %\n",
      "F1 Score : 0.463\n",
      "Balanced Accuracy : 65.0 %\n",
      "MCC : 0.452\n",
      "roc_auc_score: 0.65\n"
     ]
    },
    {
     "data": {
      "image/png": "[encoded data removed]",
      "text/plain": [
       "<Figure size 432x288 with 1 Axes>"
      ]
     },
     "metadata": {
      "needs_background": "light"
     },
     "output_type": "display_data"
    },
    {
     "name": "stdout",
     "output_type": "stream",
     "text": [
      "-----------------------------------------------------------------------\n"
     ]
    }
   ],
   "source": [
    "# Checking accuracy by changing base estimator - \n",
    "\n",
    "from sklearn.linear_model import LogisticRegression\n",
    "from sklearn.ensemble import RandomForestClassifier\n",
    "from sklearn.tree import DecisionTreeClassifier\n",
    "from xgboost import XGBClassifier\n",
    "#from sklearn.svm import SVC\n",
    "#from sklearn.neighbors import KNeighborsClassifier\n",
    "#from sklearn.ensemble import ExtraTreesClassifier\n",
    "#from sklearn.naive_bayes import GaussianNB\n",
    "#from sklearn.ensemble import AdaBoostClassifier\n",
    "#from sklearn.ensemble import BaggingClassifier\n",
    "#from sklearn.ensemble import GradientBoostingClassifier\n",
    "\n",
    "# Build the model\n",
    "\n",
    "modelLR = LogisticRegression(random_state=42)\n",
    "modelRF = RandomForestClassifier(random_state=42)\n",
    "modelDT= DecisionTreeClassifier(random_state =42)\n",
    "modelXGB = XGBClassifier(random_state=42)\n",
    "#modelSVMGaussian = SVC(kernel='rbf', random_state = None, class_weight=None,probability=True)\n",
    "#modelKNN = KNeighborsClassifier()\n",
    "#modeleETC =ExtraTreesClassifier()\n",
    "#modelGNB =GaussianNB()\n",
    "#modelAB=AdaBoostClassifier()\n",
    "#modelBC =BaggingClassifier(base_estimator=None)\n",
    "#modelGBC=GradientBoostingClassifier()\n",
    "\n",
    "MM = [ modelRF,modelLR,modelDT, modelXGB]\n",
    "for Models in MM:\n",
    "    print(\"Method: \", Models)\n",
    "        \n",
    "    # fit the model with train data\n",
    "    \n",
    "    Models.fit(x_train, y_train)\n",
    "    \n",
    "    # Predict the model\n",
    "    \n",
    "    y_pred = Models.predict(x_test)\n",
    "    y_pred_prob = Models.predict_proba(x_test)\n",
    "    \n",
    "    # Evaluate the model performance by metrics\n",
    "    # confusion matrix in sklearn\n",
    "\n",
    "    from sklearn.metrics import confusion_matrix\n",
    "    from sklearn.metrics import classification_report\n",
    "\n",
    "    # actual values\n",
    "\n",
    "    actual = y_test\n",
    "\n",
    "    # predicted values\n",
    "\n",
    "    predicted = y_pred\n",
    "\n",
    "    # confusion matrix\n",
    "\n",
    "    matrix = confusion_matrix(actual,predicted, labels=[1,0],sample_weight=None, normalize=None)\n",
    "    print('Confusion matrix : \\n', matrix)\n",
    "\n",
    "    # outcome values order in sklearn\n",
    "\n",
    "    tp, fn, fp, tn = confusion_matrix(actual,predicted,labels=[1,0]).reshape(-1)\n",
    "    print('Outcome values : \\n', tp, fn, fp, tn)\n",
    "\n",
    "    # classification report for precision, recall f1-score and accuracy\n",
    "\n",
    "    matrix = classification_report(actual,predicted,labels=[1,0])\n",
    "\n",
    "    print('Classification report : \\n',matrix)\n",
    "\n",
    "    # calculating the metrics\n",
    "\n",
    "    sensitivity = round(tp/(tp+fn), 3)\n",
    "    specificity = round(tn/(tn+fp), 3);\n",
    "    accuracy = round((tp+tn)/(tp+fp+tn+fn), 3);\n",
    "    balanced_accuracy = round((sensitivity+specificity)/2, 3);\n",
    "    \n",
    "    precision = round(tp/(tp+fp), 3);\n",
    "    f1Score = round((2*tp/(2*tp + fp + fn)), 3);\n",
    "\n",
    "    # Matthews Correlation Coefficient (MCC). Range of values of MCC lie between -1 to +1. \n",
    "    # A model with a score of +1 is a perfect model and -1 is a poor model\n",
    "\n",
    "    from math import sqrt\n",
    "\n",
    "    mx = (tp+fp) * (tp+fn) * (tn+fp) * (tn+fn)\n",
    "    MCC = round(((tp * tn) - (fp * fn)) / sqrt(mx), 3)\n",
    "\n",
    "    print('Accuracy :', round(accuracy*100, 2),'%')\n",
    "    print('Precision :', round(precision*100, 2),'%')\n",
    "    print('Recall :', round(sensitivity*100,2), '%')\n",
    "    print('F1 Score :', f1Score)\n",
    "    print('Balanced Accuracy :', round(balanced_accuracy*100, 2),'%')\n",
    "    print('MCC :', MCC)\n",
    "\n",
    "    # Area under ROC curve \n",
    "\n",
    "    from sklearn.metrics import roc_curve, roc_auc_score\n",
    "\n",
    "    print('roc_auc_score:', round(roc_auc_score(actual, predicted), 3))\n",
    "    \n",
    "    # ROC Curve\n",
    "\n",
    "    from sklearn.metrics import roc_auc_score\n",
    "    from sklearn.metrics import roc_curve\n",
    "    model_roc_auc = roc_auc_score(y_test, y_pred)\n",
    "    fpr, tpr, thresholds = roc_curve(y_test,Models.predict_proba(x_test)[:,1])\n",
    "    plt.figure()\n",
    "    \n",
    "    # plt.plot\n",
    "    plt.plot(fpr, tpr, label= 'Classification Model' % model_roc_auc)\n",
    "    plt.plot([0, 1], [0, 1],'r--')\n",
    "    plt.xlim([0.0, 1.0])\n",
    "    plt.ylim([0.0, 1.05])\n",
    "    plt.xlabel('False Positive Rate')\n",
    "    plt.ylabel('True Positive Rate')\n",
    "    plt.title('Receiver operating characteristic')\n",
    "    plt.legend(loc=\"lower right\")\n",
    "    plt.savefig('Log_ROC')\n",
    "    plt.show()\n",
    "    \n",
    "    print('-----------------------------------------------------------------------')\n",
    "    #-------------------------------------------------------------------------------------\n",
    "    new_row = {'Model Name' : Models,\n",
    "               'True Positive':tp,\n",
    "               'True Negative':tn,\n",
    "               'False Positive':fp,\n",
    "               'False Negative':fn,\n",
    "               'Accuracy' : accuracy,\n",
    "               'Precision' : precision,\n",
    "               'Recall' : sensitivity,\n",
    "               'F1 Score' : f1Score,\n",
    "               'Specificity' : specificity,\n",
    "               'MCC':MCC,\n",
    "               'ROC_AUC_Score':roc_auc_score(y_test, y_pred),\n",
    "               'Balanced Accuracy':balanced_accuracy}\n",
    "    census_Results = census_Results.append(new_row, ignore_index=True)\n",
    "    #-------------------------------------------------------------------------------------"
   ]
  },
  {
   "cell_type": "code",
   "execution_count": 195,
   "id": "6f077d3e",
   "metadata": {},
   "outputs": [
    {
     "data": {
      "text/html": [
       "<div>\n",
       "<style scoped>\n",
       "    .dataframe tbody tr th:only-of-type {\n",
       "        vertical-align: middle;\n",
       "    }\n",
       "\n",
       "    .dataframe tbody tr th {\n",
       "        vertical-align: top;\n",
       "    }\n",
       "\n",
       "    .dataframe thead th {\n",
       "        text-align: right;\n",
       "    }\n",
       "</style>\n",
       "<table border=\"1\" class=\"dataframe\">\n",
       "  <thead>\n",
       "    <tr style=\"text-align: right;\">\n",
       "      <th></th>\n",
       "      <th>Model Name</th>\n",
       "      <th>True Positive</th>\n",
       "      <th>False Positive</th>\n",
       "      <th>True Negative</th>\n",
       "      <th>False Negative</th>\n",
       "      <th>Precision</th>\n",
       "      <th>Recall</th>\n",
       "      <th>F1 Score</th>\n",
       "      <th>Specificity</th>\n",
       "      <th>MCC</th>\n",
       "      <th>ROC_AUC_Score</th>\n",
       "      <th>Balanced Accuracy</th>\n",
       "      <th>Accuracy</th>\n",
       "    </tr>\n",
       "  </thead>\n",
       "  <tbody>\n",
       "    <tr>\n",
       "      <th>0</th>\n",
       "      <td>(DecisionTreeClassifier(max_features='auto', r...</td>\n",
       "      <td>2040</td>\n",
       "      <td>884</td>\n",
       "      <td>9309</td>\n",
       "      <td>1334</td>\n",
       "      <td>0.698</td>\n",
       "      <td>0.605</td>\n",
       "      <td>0.648</td>\n",
       "      <td>0.913</td>\n",
       "      <td>0.544</td>\n",
       "      <td>0.758949</td>\n",
       "      <td>0.759</td>\n",
       "      <td>0.837</td>\n",
       "    </tr>\n",
       "    <tr>\n",
       "      <th>1</th>\n",
       "      <td>LogisticRegression(random_state=42)</td>\n",
       "      <td>1381</td>\n",
       "      <td>519</td>\n",
       "      <td>9674</td>\n",
       "      <td>1993</td>\n",
       "      <td>0.727</td>\n",
       "      <td>0.409</td>\n",
       "      <td>0.524</td>\n",
       "      <td>0.949</td>\n",
       "      <td>0.446</td>\n",
       "      <td>0.679195</td>\n",
       "      <td>0.679</td>\n",
       "      <td>0.815</td>\n",
       "    </tr>\n",
       "    <tr>\n",
       "      <th>2</th>\n",
       "      <td>DecisionTreeClassifier(random_state=42)</td>\n",
       "      <td>1881</td>\n",
       "      <td>1313</td>\n",
       "      <td>8880</td>\n",
       "      <td>1493</td>\n",
       "      <td>0.589</td>\n",
       "      <td>0.557</td>\n",
       "      <td>0.573</td>\n",
       "      <td>0.871</td>\n",
       "      <td>0.437</td>\n",
       "      <td>0.714342</td>\n",
       "      <td>0.714</td>\n",
       "      <td>0.793</td>\n",
       "    </tr>\n",
       "    <tr>\n",
       "      <th>3</th>\n",
       "      <td>XGBClassifier(base_score=0.5, booster='gbtree'...</td>\n",
       "      <td>1066</td>\n",
       "      <td>161</td>\n",
       "      <td>10032</td>\n",
       "      <td>2308</td>\n",
       "      <td>0.869</td>\n",
       "      <td>0.316</td>\n",
       "      <td>0.463</td>\n",
       "      <td>0.984</td>\n",
       "      <td>0.452</td>\n",
       "      <td>0.650075</td>\n",
       "      <td>0.65</td>\n",
       "      <td>0.818</td>\n",
       "    </tr>\n",
       "  </tbody>\n",
       "</table>\n",
       "</div>"
      ],
      "text/plain": [
       "                                          Model Name True Positive  \\\n",
       "0  (DecisionTreeClassifier(max_features='auto', r...          2040   \n",
       "1                LogisticRegression(random_state=42)          1381   \n",
       "2            DecisionTreeClassifier(random_state=42)          1881   \n",
       "3  XGBClassifier(base_score=0.5, booster='gbtree'...          1066   \n",
       "\n",
       "  False Positive True Negative False Negative Precision Recall F1 Score  \\\n",
       "0            884          9309           1334     0.698  0.605    0.648   \n",
       "1            519          9674           1993     0.727  0.409    0.524   \n",
       "2           1313          8880           1493     0.589  0.557    0.573   \n",
       "3            161         10032           2308     0.869  0.316    0.463   \n",
       "\n",
       "  Specificity    MCC ROC_AUC_Score Balanced Accuracy Accuracy  \n",
       "0       0.913  0.544      0.758949             0.759    0.837  \n",
       "1       0.949  0.446      0.679195             0.679    0.815  \n",
       "2       0.871  0.437      0.714342             0.714    0.793  \n",
       "3       0.984  0.452      0.650075              0.65    0.818  "
      ]
     },
     "execution_count": 195,
     "metadata": {},
     "output_type": "execute_result"
    }
   ],
   "source": [
    "census_Results"
   ]
  },
  {
   "cell_type": "code",
   "execution_count": 196,
   "id": "920af14b",
   "metadata": {},
   "outputs": [
    {
     "name": "stdout",
     "output_type": "stream",
     "text": [
      "Feature: 0, Score: 0.22674\n",
      "Feature: 1, Score: 0.04959\n",
      "Feature: 2, Score: 0.03603\n",
      "Feature: 3, Score: 0.09457\n",
      "Feature: 4, Score: 0.08604\n",
      "Feature: 5, Score: 0.08655\n",
      "Feature: 6, Score: 0.10989\n",
      "Feature: 7, Score: 0.00202\n",
      "Feature: 8, Score: 0.01440\n",
      "Feature: 9, Score: 0.11484\n",
      "Feature: 10, Score: 0.02247\n",
      "Feature: 11, Score: 0.15686\n"
     ]
    },
    {
     "data": {
      "image/png": "[encoded data removed]",
      "text/plain": [
       "<Figure size 432x288 with 1 Axes>"
      ]
     },
     "metadata": {
      "needs_background": "light"
     },
     "output_type": "display_data"
    }
   ],
   "source": [
    "# To get feature importance\n",
    "\n",
    "from matplotlib import pyplot\n",
    "\n",
    "importance =modelRF.feature_importances_\n",
    "\n",
    "# Summarize feature importance\n",
    "\n",
    "for i,v in enumerate(importance):\n",
    "    print('Feature: %0d, Score: %.5f' % (i,v))\n",
    "    \n",
    "# Plot feature importance\n",
    "\n",
    "pyplot.bar([x for x in range(len(importance))], importance)\n",
    "pyplot.show()"
   ]
  },
  {
   "cell_type": "code",
   "execution_count": 197,
   "id": "e6b3088f",
   "metadata": {},
   "outputs": [],
   "source": [
    "predict_prob = modelXGB.predict_proba(submission)"
   ]
  },
  {
   "cell_type": "code",
   "execution_count": 198,
   "id": "d2db78cd",
   "metadata": {},
   "outputs": [
    {
     "data": {
      "text/html": [
       "<div>\n",
       "<style scoped>\n",
       "    .dataframe tbody tr th:only-of-type {\n",
       "        vertical-align: middle;\n",
       "    }\n",
       "\n",
       "    .dataframe tbody tr th {\n",
       "        vertical-align: top;\n",
       "    }\n",
       "\n",
       "    .dataframe thead th {\n",
       "        text-align: right;\n",
       "    }\n",
       "</style>\n",
       "<table border=\"1\" class=\"dataframe\">\n",
       "  <thead>\n",
       "    <tr style=\"text-align: right;\">\n",
       "      <th></th>\n",
       "      <th>id</th>\n",
       "      <th>income</th>\n",
       "    </tr>\n",
       "  </thead>\n",
       "  <tbody>\n",
       "    <tr>\n",
       "      <th>0</th>\n",
       "      <td>0</td>\n",
       "      <td>1</td>\n",
       "    </tr>\n",
       "    <tr>\n",
       "      <th>1</th>\n",
       "      <td>1</td>\n",
       "      <td>1</td>\n",
       "    </tr>\n",
       "    <tr>\n",
       "      <th>2</th>\n",
       "      <td>2</td>\n",
       "      <td>1</td>\n",
       "    </tr>\n",
       "    <tr>\n",
       "      <th>3</th>\n",
       "      <td>3</td>\n",
       "      <td>1</td>\n",
       "    </tr>\n",
       "    <tr>\n",
       "      <th>4</th>\n",
       "      <td>4</td>\n",
       "      <td>1</td>\n",
       "    </tr>\n",
       "  </tbody>\n",
       "</table>\n",
       "</div>"
      ],
      "text/plain": [
       "   id  income\n",
       "0   0       1\n",
       "1   1       1\n",
       "2   2       1\n",
       "3   3       1\n",
       "4   4       1"
      ]
     },
     "execution_count": 198,
     "metadata": {},
     "output_type": "execute_result"
    }
   ],
   "source": [
    "Final_Submission = pd.read_csv(r\"C:\\Users\\Asus\\OneDrive\\Desktop\\example_submission.csv\")\n",
    "Final_Submission.head()"
   ]
  },
  {
   "cell_type": "code",
   "execution_count": 199,
   "id": "73af9f82",
   "metadata": {},
   "outputs": [],
   "source": [
    "Final_Submission.income = predict_prob[:,1]"
   ]
  },
  {
   "cell_type": "code",
   "execution_count": 200,
   "id": "07030c79",
   "metadata": {},
   "outputs": [
    {
     "data": {
      "text/html": [
       "<div>\n",
       "<style scoped>\n",
       "    .dataframe tbody tr th:only-of-type {\n",
       "        vertical-align: middle;\n",
       "    }\n",
       "\n",
       "    .dataframe tbody tr th {\n",
       "        vertical-align: top;\n",
       "    }\n",
       "\n",
       "    .dataframe thead th {\n",
       "        text-align: right;\n",
       "    }\n",
       "</style>\n",
       "<table border=\"1\" class=\"dataframe\">\n",
       "  <thead>\n",
       "    <tr style=\"text-align: right;\">\n",
       "      <th></th>\n",
       "      <th>id</th>\n",
       "      <th>income</th>\n",
       "    </tr>\n",
       "  </thead>\n",
       "  <tbody>\n",
       "    <tr>\n",
       "      <th>0</th>\n",
       "      <td>0</td>\n",
       "      <td>0.391683</td>\n",
       "    </tr>\n",
       "    <tr>\n",
       "      <th>1</th>\n",
       "      <td>1</td>\n",
       "      <td>0.449543</td>\n",
       "    </tr>\n",
       "    <tr>\n",
       "      <th>2</th>\n",
       "      <td>2</td>\n",
       "      <td>0.715969</td>\n",
       "    </tr>\n",
       "    <tr>\n",
       "      <th>3</th>\n",
       "      <td>3</td>\n",
       "      <td>0.814577</td>\n",
       "    </tr>\n",
       "    <tr>\n",
       "      <th>4</th>\n",
       "      <td>4</td>\n",
       "      <td>0.430719</td>\n",
       "    </tr>\n",
       "    <tr>\n",
       "      <th>5</th>\n",
       "      <td>5</td>\n",
       "      <td>0.241651</td>\n",
       "    </tr>\n",
       "    <tr>\n",
       "      <th>6</th>\n",
       "      <td>6</td>\n",
       "      <td>0.430719</td>\n",
       "    </tr>\n",
       "    <tr>\n",
       "      <th>7</th>\n",
       "      <td>7</td>\n",
       "      <td>0.430719</td>\n",
       "    </tr>\n",
       "    <tr>\n",
       "      <th>8</th>\n",
       "      <td>8</td>\n",
       "      <td>0.722155</td>\n",
       "    </tr>\n",
       "    <tr>\n",
       "      <th>9</th>\n",
       "      <td>9</td>\n",
       "      <td>0.430719</td>\n",
       "    </tr>\n",
       "  </tbody>\n",
       "</table>\n",
       "</div>"
      ],
      "text/plain": [
       "   id    income\n",
       "0   0  0.391683\n",
       "1   1  0.449543\n",
       "2   2  0.715969\n",
       "3   3  0.814577\n",
       "4   4  0.430719\n",
       "5   5  0.241651\n",
       "6   6  0.430719\n",
       "7   7  0.430719\n",
       "8   8  0.722155\n",
       "9   9  0.430719"
      ]
     },
     "execution_count": 200,
     "metadata": {},
     "output_type": "execute_result"
    }
   ],
   "source": [
    "Final_Submission.head(10)"
   ]
  },
  {
   "cell_type": "code",
   "execution_count": null,
   "id": "862485bd",
   "metadata": {},
   "outputs": [],
   "source": []
  }
 ],
 "metadata": {
  "kernelspec": {
   "display_name": "Python 3 (ipykernel)",
   "language": "python",
   "name": "python3"
  },
  "language_info": {
   "codemirror_mode": {
    "name": "ipython",
    "version": 3
   },
   "file_extension": ".py",
   "mimetype": "text/x-python",
   "name": "python",
   "nbconvert_exporter": "python",
   "pygments_lexer": "ipython3",
   "version": "3.9.13"
  }
 },
 "nbformat": 4,
 "nbformat_minor": 5
}
